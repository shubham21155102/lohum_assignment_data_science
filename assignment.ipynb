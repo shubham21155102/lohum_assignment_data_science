{
  "cells": [
    {
      "cell_type": "markdown",
      "metadata": {
        "colab_type": "text",
        "id": "view-in-github"
      },
      "source": [
        "<a href=\"https://colab.research.google.com/github/kaushik3012/lohum-assignment/blob/main/Copy_of_Lohum_assignment.ipynb\" target=\"_parent\"><img src=\"https://colab.research.google.com/assets/colab-badge.svg\" alt=\"Open In Colab\"/></a>"
      ]
    },
    {
      "cell_type": "markdown",
      "metadata": {
        "id": "kiGH8lc-uc1R"
      },
      "source": [
        "#Part 1 - Feature Extraction"
      ]
    },
    {
      "cell_type": "markdown",
      "metadata": {
        "id": "EtNyAmI_ummC"
      },
      "source": [
        "###Setup"
      ]
    },
    {
      "cell_type": "markdown",
      "metadata": {
        "id": "Gz5uNWzSwjRu"
      },
      "source": [
        "Downloading the dataset"
      ]
    },
    {
      "cell_type": "markdown",
      "metadata": {
        "id": "RsFS6FBXwmaV"
      },
      "source": [
        "Importing the important libraries and the dataset"
      ]
    },
    {
      "cell_type": "code",
      "execution_count": 1,
      "metadata": {},
      "outputs": [
        {
          "name": "stdout",
          "output_type": "stream",
          "text": [
            "--2023-11-06 03:29:53--  https://raw.githubusercontent.com/shubham21155102/lohum_assignment_data_science/main/data/Part1.csv\n",
            "Resolving raw.githubusercontent.com (raw.githubusercontent.com)... 185.199.111.133, 185.199.109.133, 185.199.108.133, ...\n",
            "Connecting to raw.githubusercontent.com (raw.githubusercontent.com)|185.199.111.133|:443... connected.\n",
            "OpenSSL: error:0A000126:SSL routines::unexpected eof while reading\n",
            "Unable to establish SSL connection.\n"
          ]
        }
      ],
      "source": [
        "!wget -O Part1.csv https://raw.githubusercontent.com/shubham21155102/lohum_assignment_data_science/main/data/Part1.csv"
      ]
    },
    {
      "cell_type": "code",
      "execution_count": 2,
      "metadata": {
        "id": "l6PlKX3hT94C"
      },
      "outputs": [
        {
          "ename": "EmptyDataError",
          "evalue": "No columns to parse from file",
          "output_type": "error",
          "traceback": [
            "\u001b[0;31m---------------------------------------------------------------------------\u001b[0m",
            "\u001b[0;31mEmptyDataError\u001b[0m                            Traceback (most recent call last)",
            "\u001b[1;32m/home/shubham/lohum-assignment/assignment.ipynb Cell 7\u001b[0m line \u001b[0;36m3\n\u001b[1;32m      <a href='vscode-notebook-cell:/home/shubham/lohum-assignment/assignment.ipynb#W5sZmlsZQ%3D%3D?line=0'>1</a>\u001b[0m \u001b[39mimport\u001b[39;00m \u001b[39mpandas\u001b[39;00m \u001b[39mas\u001b[39;00m \u001b[39mpd\u001b[39;00m\n\u001b[0;32m----> <a href='vscode-notebook-cell:/home/shubham/lohum-assignment/assignment.ipynb#W5sZmlsZQ%3D%3D?line=2'>3</a>\u001b[0m df \u001b[39m=\u001b[39m pd\u001b[39m.\u001b[39;49mread_csv(\u001b[39m\"\u001b[39;49m\u001b[39mPart1.csv\u001b[39;49m\u001b[39m\"\u001b[39;49m)\n",
            "File \u001b[0;32m~/.local/lib/python3.10/site-packages/pandas/io/parsers/readers.py:912\u001b[0m, in \u001b[0;36mread_csv\u001b[0;34m(filepath_or_buffer, sep, delimiter, header, names, index_col, usecols, dtype, engine, converters, true_values, false_values, skipinitialspace, skiprows, skipfooter, nrows, na_values, keep_default_na, na_filter, verbose, skip_blank_lines, parse_dates, infer_datetime_format, keep_date_col, date_parser, date_format, dayfirst, cache_dates, iterator, chunksize, compression, thousands, decimal, lineterminator, quotechar, quoting, doublequote, escapechar, comment, encoding, encoding_errors, dialect, on_bad_lines, delim_whitespace, low_memory, memory_map, float_precision, storage_options, dtype_backend)\u001b[0m\n\u001b[1;32m    899\u001b[0m kwds_defaults \u001b[39m=\u001b[39m _refine_defaults_read(\n\u001b[1;32m    900\u001b[0m     dialect,\n\u001b[1;32m    901\u001b[0m     delimiter,\n\u001b[0;32m   (...)\u001b[0m\n\u001b[1;32m    908\u001b[0m     dtype_backend\u001b[39m=\u001b[39mdtype_backend,\n\u001b[1;32m    909\u001b[0m )\n\u001b[1;32m    910\u001b[0m kwds\u001b[39m.\u001b[39mupdate(kwds_defaults)\n\u001b[0;32m--> 912\u001b[0m \u001b[39mreturn\u001b[39;00m _read(filepath_or_buffer, kwds)\n",
            "File \u001b[0;32m~/.local/lib/python3.10/site-packages/pandas/io/parsers/readers.py:577\u001b[0m, in \u001b[0;36m_read\u001b[0;34m(filepath_or_buffer, kwds)\u001b[0m\n\u001b[1;32m    574\u001b[0m _validate_names(kwds\u001b[39m.\u001b[39mget(\u001b[39m\"\u001b[39m\u001b[39mnames\u001b[39m\u001b[39m\"\u001b[39m, \u001b[39mNone\u001b[39;00m))\n\u001b[1;32m    576\u001b[0m \u001b[39m# Create the parser.\u001b[39;00m\n\u001b[0;32m--> 577\u001b[0m parser \u001b[39m=\u001b[39m TextFileReader(filepath_or_buffer, \u001b[39m*\u001b[39;49m\u001b[39m*\u001b[39;49mkwds)\n\u001b[1;32m    579\u001b[0m \u001b[39mif\u001b[39;00m chunksize \u001b[39mor\u001b[39;00m iterator:\n\u001b[1;32m    580\u001b[0m     \u001b[39mreturn\u001b[39;00m parser\n",
            "File \u001b[0;32m~/.local/lib/python3.10/site-packages/pandas/io/parsers/readers.py:1407\u001b[0m, in \u001b[0;36mTextFileReader.__init__\u001b[0;34m(self, f, engine, **kwds)\u001b[0m\n\u001b[1;32m   1404\u001b[0m     \u001b[39mself\u001b[39m\u001b[39m.\u001b[39moptions[\u001b[39m\"\u001b[39m\u001b[39mhas_index_names\u001b[39m\u001b[39m\"\u001b[39m] \u001b[39m=\u001b[39m kwds[\u001b[39m\"\u001b[39m\u001b[39mhas_index_names\u001b[39m\u001b[39m\"\u001b[39m]\n\u001b[1;32m   1406\u001b[0m \u001b[39mself\u001b[39m\u001b[39m.\u001b[39mhandles: IOHandles \u001b[39m|\u001b[39m \u001b[39mNone\u001b[39;00m \u001b[39m=\u001b[39m \u001b[39mNone\u001b[39;00m\n\u001b[0;32m-> 1407\u001b[0m \u001b[39mself\u001b[39m\u001b[39m.\u001b[39m_engine \u001b[39m=\u001b[39m \u001b[39mself\u001b[39;49m\u001b[39m.\u001b[39;49m_make_engine(f, \u001b[39mself\u001b[39;49m\u001b[39m.\u001b[39;49mengine)\n",
            "File \u001b[0;32m~/.local/lib/python3.10/site-packages/pandas/io/parsers/readers.py:1679\u001b[0m, in \u001b[0;36mTextFileReader._make_engine\u001b[0;34m(self, f, engine)\u001b[0m\n\u001b[1;32m   1676\u001b[0m     \u001b[39mraise\u001b[39;00m \u001b[39mValueError\u001b[39;00m(msg)\n\u001b[1;32m   1678\u001b[0m \u001b[39mtry\u001b[39;00m:\n\u001b[0;32m-> 1679\u001b[0m     \u001b[39mreturn\u001b[39;00m mapping[engine](f, \u001b[39m*\u001b[39;49m\u001b[39m*\u001b[39;49m\u001b[39mself\u001b[39;49m\u001b[39m.\u001b[39;49moptions)\n\u001b[1;32m   1680\u001b[0m \u001b[39mexcept\u001b[39;00m \u001b[39mException\u001b[39;00m:\n\u001b[1;32m   1681\u001b[0m     \u001b[39mif\u001b[39;00m \u001b[39mself\u001b[39m\u001b[39m.\u001b[39mhandles \u001b[39mis\u001b[39;00m \u001b[39mnot\u001b[39;00m \u001b[39mNone\u001b[39;00m:\n",
            "File \u001b[0;32m~/.local/lib/python3.10/site-packages/pandas/io/parsers/c_parser_wrapper.py:93\u001b[0m, in \u001b[0;36mCParserWrapper.__init__\u001b[0;34m(self, src, **kwds)\u001b[0m\n\u001b[1;32m     90\u001b[0m \u001b[39mif\u001b[39;00m kwds[\u001b[39m\"\u001b[39m\u001b[39mdtype_backend\u001b[39m\u001b[39m\"\u001b[39m] \u001b[39m==\u001b[39m \u001b[39m\"\u001b[39m\u001b[39mpyarrow\u001b[39m\u001b[39m\"\u001b[39m:\n\u001b[1;32m     91\u001b[0m     \u001b[39m# Fail here loudly instead of in cython after reading\u001b[39;00m\n\u001b[1;32m     92\u001b[0m     import_optional_dependency(\u001b[39m\"\u001b[39m\u001b[39mpyarrow\u001b[39m\u001b[39m\"\u001b[39m)\n\u001b[0;32m---> 93\u001b[0m \u001b[39mself\u001b[39m\u001b[39m.\u001b[39m_reader \u001b[39m=\u001b[39m parsers\u001b[39m.\u001b[39;49mTextReader(src, \u001b[39m*\u001b[39;49m\u001b[39m*\u001b[39;49mkwds)\n\u001b[1;32m     95\u001b[0m \u001b[39mself\u001b[39m\u001b[39m.\u001b[39munnamed_cols \u001b[39m=\u001b[39m \u001b[39mself\u001b[39m\u001b[39m.\u001b[39m_reader\u001b[39m.\u001b[39munnamed_cols\n\u001b[1;32m     97\u001b[0m \u001b[39m# error: Cannot determine type of 'names'\u001b[39;00m\n",
            "File \u001b[0;32m~/.local/lib/python3.10/site-packages/pandas/_libs/parsers.pyx:555\u001b[0m, in \u001b[0;36mpandas._libs.parsers.TextReader.__cinit__\u001b[0;34m()\u001b[0m\n",
            "\u001b[0;31mEmptyDataError\u001b[0m: No columns to parse from file"
          ]
        }
      ],
      "source": [
        "import pandas as pd\n",
        "\n",
        "df = pd.read_csv(\"Part1.csv\")"
      ]
    },
    {
      "cell_type": "code",
      "execution_count": null,
      "metadata": {
        "colab": {
          "base_uri": "https://localhost:8080/",
          "height": 206
        },
        "id": "-e7iejmDS7EL",
        "outputId": "7156cb6b-b014-44c7-d62d-463cd3487258"
      },
      "outputs": [],
      "source": [
        "df.head()"
      ]
    },
    {
      "cell_type": "markdown",
      "metadata": {
        "id": "3GftOfcPvIix"
      },
      "source": [
        "###1) Cleaning the Data"
      ]
    },
    {
      "cell_type": "markdown",
      "metadata": {
        "id": "Aj3AugK9uyYZ"
      },
      "source": [
        "Remove missing values"
      ]
    },
    {
      "cell_type": "code",
      "execution_count": null,
      "metadata": {
        "id": "kPCfhiF7TBpc"
      },
      "outputs": [],
      "source": [
        "df = df.dropna()"
      ]
    },
    {
      "cell_type": "code",
      "execution_count": null,
      "metadata": {
        "colab": {
          "base_uri": "https://localhost:8080/"
        },
        "id": "nlQE5ii0THWs",
        "outputId": "14c36413-e96b-48a5-da59-40fcaacb5fad"
      },
      "outputs": [],
      "source": [
        "df.shape"
      ]
    },
    {
      "cell_type": "markdown",
      "metadata": {
        "id": "psJAVZKEvFw8"
      },
      "source": [
        "Removing the Outliers"
      ]
    },
    {
      "cell_type": "code",
      "execution_count": null,
      "metadata": {
        "id": "d_iUSDRGc8pl"
      },
      "outputs": [],
      "source": [
        "#This function removes the value which lie outside the 25th and 75th percentile of the dataset\n",
        "def remove_outlier(df_in, col_name):\n",
        "    q1 = df_in[col_name].quantile(0.25)\n",
        "    q3 = df_in[col_name].quantile(0.75)\n",
        "    iqr = q3-q1 #Interquartile range\n",
        "    fence_low  = q1-1.5*iqr\n",
        "    fence_high = q3+1.5*iqr\n",
        "    df_out = df_in.loc[(df_in[col_name] > fence_low) & (df_in[col_name] < fence_high)]\n",
        "    return df_out\n",
        "\n",
        "df = remove_outlier(df, 'soc')\n",
        "df = remove_outlier(df, 'voltage')"
      ]
    },
    {
      "cell_type": "markdown",
      "metadata": {
        "id": "zYtzSxZ9vNw0"
      },
      "source": [
        "Parse the time stamps column"
      ]
    },
    {
      "cell_type": "code",
      "execution_count": null,
      "metadata": {
        "id": "DxNSdu_Ub-i1"
      },
      "outputs": [],
      "source": [
        "df['time_parsed'] = pd.to_datetime(df['timestamp'], format='%Y-%m-%d %H:%M:%S')\n",
        "df = df.sort_values(by=['time_parsed'])   #Sorting the DataFrame according to the timestamp"
      ]
    },
    {
      "cell_type": "markdown",
      "metadata": {
        "id": "Xaoc4pRmvwyA"
      },
      "source": [
        "###2) Algorithm to obtain the FECs that the given battery has undergone"
      ]
    },
    {
      "cell_type": "markdown",
      "metadata": {
        "id": "cKIKxeh9v-Vf"
      },
      "source": [
        "Creating a charge status column which finds the change in charge\n",
        "The charge status is negative if the battery is discharging and positive if it is charging."
      ]
    },
    {
      "cell_type": "code",
      "execution_count": null,
      "metadata": {
        "id": "DmUAPSOlQEfc"
      },
      "outputs": [],
      "source": [
        "df['charge_status'] = df['soc'] - df['soc'].shift(1)"
      ]
    },
    {
      "cell_type": "markdown",
      "metadata": {
        "id": "05u5V50vwQ5r"
      },
      "source": [
        "Creating a charge_current column which gives the current difference while charging. The charge_current value is 0 if the battery is discharging."
      ]
    },
    {
      "cell_type": "code",
      "execution_count": null,
      "metadata": {
        "colab": {
          "base_uri": "https://localhost:8080/"
        },
        "id": "JJ9XMOo-UDbs",
        "outputId": "cea2ec48-b236-4009-c1f1-1b0ed44c530b"
      },
      "outputs": [],
      "source": [
        "df['charge_current']=0\n",
        "\n",
        "charge_status = -1\n",
        "for i in range(df.shape[0]):\n",
        "  if(df['charge_status'].iloc[i]!=0):\n",
        "    charge_status = df['charge_status'].iloc[i]\n",
        "\n",
        "  if(charge_status>0):\n",
        "    df['charge_current'].iloc[i] = df['current'].iloc[i]\n",
        "  else:\n",
        "    df['charge_current'].iloc[i] = 0\n"
      ]
    },
    {
      "cell_type": "code",
      "execution_count": null,
      "metadata": {
        "colab": {
          "base_uri": "https://localhost:8080/",
          "height": 424
        },
        "id": "bguyVDYqV626",
        "outputId": "4f84bbce-3c01-4060-87aa-d1ee9420ff11"
      },
      "outputs": [],
      "source": [
        "df.head(1000)"
      ]
    },
    {
      "cell_type": "markdown",
      "metadata": {
        "id": "nwyUebsTwzRp"
      },
      "source": [
        "The following expression finds the fraction of cycle completed at each timestep by adding only the positive values of charge_status and then dividing them by 100"
      ]
    },
    {
      "cell_type": "code",
      "execution_count": null,
      "metadata": {
        "id": "XHN--RdzWeqK"
      },
      "outputs": [],
      "source": [
        "df['cycles'] = df['charge_status'].map(lambda x : x if x>0 else 0).cumsum()/100"
      ]
    },
    {
      "cell_type": "code",
      "execution_count": null,
      "metadata": {
        "colab": {
          "base_uri": "https://localhost:8080/",
          "height": 424
        },
        "id": "6tsuNm5N8Zq8",
        "outputId": "00a09ad5-815c-4f40-b01b-0845e53dd5bf"
      },
      "outputs": [],
      "source": [
        "df.head(1000)"
      ]
    },
    {
      "cell_type": "markdown",
      "metadata": {
        "id": "73I3ZRhX34hk"
      },
      "source": [
        "The Total FECs is given by the following code"
      ]
    },
    {
      "cell_type": "code",
      "execution_count": null,
      "metadata": {
        "colab": {
          "base_uri": "https://localhost:8080/"
        },
        "id": "1GajGSnq34An",
        "outputId": "c5404eee-a665-4568-8194-4fd456185c64"
      },
      "outputs": [],
      "source": [
        "int(df['cycles'].iloc[-1])"
      ]
    },
    {
      "cell_type": "markdown",
      "metadata": {
        "id": "raLG6HTh4I2G"
      },
      "source": [
        "###3) Capacity of Battery"
      ]
    },
    {
      "cell_type": "markdown",
      "metadata": {
        "id": "bcsn2SVk6Yio"
      },
      "source": [
        "Calculating the time difference"
      ]
    },
    {
      "cell_type": "code",
      "execution_count": null,
      "metadata": {
        "id": "8AqeQcnHkIcT"
      },
      "outputs": [],
      "source": [
        "df['time_secs'] = df['time_parsed'] - df['time_parsed'].shift(1)\n",
        "df['time_secs'] = df['time_secs'].map(lambda x : (pd.Timedelta(x, unit='h').total_seconds())).fillna(0)"
      ]
    },
    {
      "cell_type": "code",
      "execution_count": null,
      "metadata": {
        "colab": {
          "base_uri": "https://localhost:8080/",
          "height": 424
        },
        "id": "jT5EsOinjd0o",
        "outputId": "1ea5f0e4-b45c-4f1d-a315-df55d801c8be"
      },
      "outputs": [],
      "source": [
        "df.head(1000)"
      ]
    },
    {
      "cell_type": "markdown",
      "metadata": {
        "id": "uS7J-w1J6cC2"
      },
      "source": [
        "Finding the Change of Charge at each timestamp (Q = I*t)"
      ]
    },
    {
      "cell_type": "code",
      "execution_count": null,
      "metadata": {
        "colab": {
          "base_uri": "https://localhost:8080/",
          "height": 658
        },
        "id": "YFiIFgSxrM90",
        "outputId": "7e49c7ee-5fc4-4802-d947-6259278dc562"
      },
      "outputs": [],
      "source": [
        "df['charge_change'] = df['charge_current']*(df['time_secs']/3600)\n",
        "df.head(1000)"
      ]
    },
    {
      "cell_type": "markdown",
      "metadata": {
        "id": "6XrSyB836NAF"
      },
      "source": [
        "Finding the index where 10th cycle ends"
      ]
    },
    {
      "cell_type": "code",
      "execution_count": null,
      "metadata": {
        "id": "Tgxr1TyI6lOb"
      },
      "outputs": [],
      "source": [
        "cycle_10th=0\n",
        "for i in range(df.shape[0]):\n",
        "  if(df['cycles'].iloc[i]>=10):\n",
        "    cycle_10th = i\n",
        "    break"
      ]
    },
    {
      "cell_type": "markdown",
      "metadata": {
        "id": "5cRm3f4D7QTb"
      },
      "source": [
        "Following expression gives the Capacity of the battery (in Ah)"
      ]
    },
    {
      "cell_type": "code",
      "execution_count": null,
      "metadata": {
        "colab": {
          "base_uri": "https://localhost:8080/"
        },
        "id": "xwsErwjX7Rfc",
        "outputId": "b5d980af-d673-453c-9b46-156a831eaf81"
      },
      "outputs": [],
      "source": [
        "# Summing all the Positive change of charges at all timestamps till the 10th cycle \n",
        "# and then divide by 10 to obtain the average over 10 cycles\n",
        "\n",
        "df.head(cycle_10th)['charge_change'].sum()/10     "
      ]
    },
    {
      "cell_type": "markdown",
      "metadata": {
        "id": "M2io67IQ-V-Z"
      },
      "source": [
        "#Part 2 - Regression"
      ]
    },
    {
      "cell_type": "markdown",
      "metadata": {
        "id": "ub3q2JMcN2K6"
      },
      "source": [
        "###Setup"
      ]
    },
    {
      "cell_type": "markdown",
      "metadata": {
        "id": "SRwTeBK6N8Zp"
      },
      "source": [
        "Loading the Dataset"
      ]
    },
    {
      "cell_type": "code",
      "execution_count": 6,
      "metadata": {},
      "outputs": [
        {
          "name": "stdout",
          "output_type": "stream",
          "text": [
            "--2023-11-06 03:36:39--  https://raw.githubusercontent.com/shubham21155102/lohum_assignment_data_science/main/data/Part2.csv.xlsx\n",
            "Resolving raw.githubusercontent.com (raw.githubusercontent.com)... 185.199.108.133, 185.199.111.133, 185.199.110.133, ...\n",
            "Connecting to raw.githubusercontent.com (raw.githubusercontent.com)|185.199.108.133|:443... connected.\n",
            "HTTP request sent, awaiting response... "
          ]
        },
        {
          "name": "stdout",
          "output_type": "stream",
          "text": [
            "200 OK\n",
            "Length: 44623 (44K) [application/octet-stream]\n",
            "Saving to: ‘Part2.csv.xlsx’\n",
            "\n",
            "Part2.csv.xlsx      100%[===================>]  43.58K  --.-KB/s    in 0.02s   \n",
            "\n",
            "2023-11-06 03:36:40 (1.91 MB/s) - ‘Part2.csv.xlsx’ saved [44623/44623]\n",
            "\n"
          ]
        }
      ],
      "source": [
        "!wget -O Part2.csv.xlsx https://raw.githubusercontent.com/shubham21155102/lohum_assignment_data_science/main/data/Part2.csv.xlsx"
      ]
    },
    {
      "cell_type": "markdown",
      "metadata": {
        "id": "NXrnXOq8OA43"
      },
      "source": [
        "Importing the data and library"
      ]
    },
    {
      "cell_type": "code",
      "execution_count": 36,
      "metadata": {
        "id": "Hi6v_I4sBgC_"
      },
      "outputs": [
        {
          "ename": "ImportError",
          "evalue": "Missing optional dependency 'openpyxl'.  Use pip or conda to install openpyxl.",
          "output_type": "error",
          "traceback": [
            "\u001b[0;31m---------------------------------------------------------------------------\u001b[0m",
            "\u001b[0;31mModuleNotFoundError\u001b[0m                       Traceback (most recent call last)",
            "File \u001b[0;32m~/.local/lib/python3.10/site-packages/pandas/compat/_optional.py:142\u001b[0m, in \u001b[0;36mimport_optional_dependency\u001b[0;34m(name, extra, errors, min_version)\u001b[0m\n\u001b[1;32m    141\u001b[0m \u001b[39mtry\u001b[39;00m:\n\u001b[0;32m--> 142\u001b[0m     module \u001b[39m=\u001b[39m importlib\u001b[39m.\u001b[39;49mimport_module(name)\n\u001b[1;32m    143\u001b[0m \u001b[39mexcept\u001b[39;00m \u001b[39mImportError\u001b[39;00m:\n",
            "File \u001b[0;32m/usr/lib/python3.10/importlib/__init__.py:126\u001b[0m, in \u001b[0;36mimport_module\u001b[0;34m(name, package)\u001b[0m\n\u001b[1;32m    125\u001b[0m         level \u001b[39m+\u001b[39m\u001b[39m=\u001b[39m \u001b[39m1\u001b[39m\n\u001b[0;32m--> 126\u001b[0m \u001b[39mreturn\u001b[39;00m _bootstrap\u001b[39m.\u001b[39;49m_gcd_import(name[level:], package, level)\n",
            "File \u001b[0;32m<frozen importlib._bootstrap>:1050\u001b[0m, in \u001b[0;36m_gcd_import\u001b[0;34m(name, package, level)\u001b[0m\n",
            "File \u001b[0;32m<frozen importlib._bootstrap>:1027\u001b[0m, in \u001b[0;36m_find_and_load\u001b[0;34m(name, import_)\u001b[0m\n",
            "File \u001b[0;32m<frozen importlib._bootstrap>:1004\u001b[0m, in \u001b[0;36m_find_and_load_unlocked\u001b[0;34m(name, import_)\u001b[0m\n",
            "\u001b[0;31mModuleNotFoundError\u001b[0m: No module named 'openpyxl'",
            "\nDuring handling of the above exception, another exception occurred:\n",
            "\u001b[0;31mImportError\u001b[0m                               Traceback (most recent call last)",
            "\u001b[1;32m/home/shubham/lohum-assignment/Copy_of_Lohum_assignment.ipynb Cell 42\u001b[0m line \u001b[0;36m6\n\u001b[1;32m      <a href='vscode-notebook-cell:/home/shubham/lohum-assignment/Copy_of_Lohum_assignment.ipynb#X60sZmlsZQ%3D%3D?line=3'>4</a>\u001b[0m \u001b[39mimport\u001b[39;00m \u001b[39mnumpy\u001b[39;00m \u001b[39mas\u001b[39;00m \u001b[39mnp\u001b[39;00m\n\u001b[1;32m      <a href='vscode-notebook-cell:/home/shubham/lohum-assignment/Copy_of_Lohum_assignment.ipynb#X60sZmlsZQ%3D%3D?line=4'>5</a>\u001b[0m \u001b[39mfrom\u001b[39;00m \u001b[39msklearn\u001b[39;00m\u001b[39m.\u001b[39;00m\u001b[39mmetrics\u001b[39;00m \u001b[39mimport\u001b[39;00m mean_absolute_error,mean_squared_error\n\u001b[0;32m----> <a href='vscode-notebook-cell:/home/shubham/lohum-assignment/Copy_of_Lohum_assignment.ipynb#X60sZmlsZQ%3D%3D?line=5'>6</a>\u001b[0m df2\u001b[39m=\u001b[39mpd\u001b[39m.\u001b[39mDataFrame(pd\u001b[39m.\u001b[39;49mread_excel(\u001b[39m\"\u001b[39;49m\u001b[39mPart2.xlsx\u001b[39;49m\u001b[39m\"\u001b[39;49m))\n\u001b[1;32m      <a href='vscode-notebook-cell:/home/shubham/lohum-assignment/Copy_of_Lohum_assignment.ipynb#X60sZmlsZQ%3D%3D?line=6'>7</a>\u001b[0m \u001b[39m# df2 = pd.DataFrame(pd.read_excel(\"Part2.xlsx\"))\u001b[39;00m\n",
            "File \u001b[0;32m~/.local/lib/python3.10/site-packages/pandas/io/excel/_base.py:478\u001b[0m, in \u001b[0;36mread_excel\u001b[0;34m(io, sheet_name, header, names, index_col, usecols, dtype, engine, converters, true_values, false_values, skiprows, nrows, na_values, keep_default_na, na_filter, verbose, parse_dates, date_parser, date_format, thousands, decimal, comment, skipfooter, storage_options, dtype_backend)\u001b[0m\n\u001b[1;32m    476\u001b[0m \u001b[39mif\u001b[39;00m \u001b[39mnot\u001b[39;00m \u001b[39misinstance\u001b[39m(io, ExcelFile):\n\u001b[1;32m    477\u001b[0m     should_close \u001b[39m=\u001b[39m \u001b[39mTrue\u001b[39;00m\n\u001b[0;32m--> 478\u001b[0m     io \u001b[39m=\u001b[39m ExcelFile(io, storage_options\u001b[39m=\u001b[39;49mstorage_options, engine\u001b[39m=\u001b[39;49mengine)\n\u001b[1;32m    479\u001b[0m \u001b[39melif\u001b[39;00m engine \u001b[39mand\u001b[39;00m engine \u001b[39m!=\u001b[39m io\u001b[39m.\u001b[39mengine:\n\u001b[1;32m    480\u001b[0m     \u001b[39mraise\u001b[39;00m \u001b[39mValueError\u001b[39;00m(\n\u001b[1;32m    481\u001b[0m         \u001b[39m\"\u001b[39m\u001b[39mEngine should not be specified when passing \u001b[39m\u001b[39m\"\u001b[39m\n\u001b[1;32m    482\u001b[0m         \u001b[39m\"\u001b[39m\u001b[39man ExcelFile - ExcelFile already has the engine set\u001b[39m\u001b[39m\"\u001b[39m\n\u001b[1;32m    483\u001b[0m     )\n",
            "File \u001b[0;32m~/.local/lib/python3.10/site-packages/pandas/io/excel/_base.py:1513\u001b[0m, in \u001b[0;36mExcelFile.__init__\u001b[0;34m(self, path_or_buffer, engine, storage_options)\u001b[0m\n\u001b[1;32m   1510\u001b[0m \u001b[39mself\u001b[39m\u001b[39m.\u001b[39mengine \u001b[39m=\u001b[39m engine\n\u001b[1;32m   1511\u001b[0m \u001b[39mself\u001b[39m\u001b[39m.\u001b[39mstorage_options \u001b[39m=\u001b[39m storage_options\n\u001b[0;32m-> 1513\u001b[0m \u001b[39mself\u001b[39m\u001b[39m.\u001b[39m_reader \u001b[39m=\u001b[39m \u001b[39mself\u001b[39;49m\u001b[39m.\u001b[39;49m_engines[engine](\u001b[39mself\u001b[39;49m\u001b[39m.\u001b[39;49m_io, storage_options\u001b[39m=\u001b[39;49mstorage_options)\n",
            "File \u001b[0;32m~/.local/lib/python3.10/site-packages/pandas/io/excel/_openpyxl.py:548\u001b[0m, in \u001b[0;36mOpenpyxlReader.__init__\u001b[0;34m(self, filepath_or_buffer, storage_options)\u001b[0m\n\u001b[1;32m    533\u001b[0m \u001b[39m@doc\u001b[39m(storage_options\u001b[39m=\u001b[39m_shared_docs[\u001b[39m\"\u001b[39m\u001b[39mstorage_options\u001b[39m\u001b[39m\"\u001b[39m])\n\u001b[1;32m    534\u001b[0m \u001b[39mdef\u001b[39;00m \u001b[39m__init__\u001b[39m(\n\u001b[1;32m    535\u001b[0m     \u001b[39mself\u001b[39m,\n\u001b[1;32m    536\u001b[0m     filepath_or_buffer: FilePath \u001b[39m|\u001b[39m ReadBuffer[\u001b[39mbytes\u001b[39m],\n\u001b[1;32m    537\u001b[0m     storage_options: StorageOptions \u001b[39m=\u001b[39m \u001b[39mNone\u001b[39;00m,\n\u001b[1;32m    538\u001b[0m ) \u001b[39m-\u001b[39m\u001b[39m>\u001b[39m \u001b[39mNone\u001b[39;00m:\n\u001b[1;32m    539\u001b[0m \u001b[39m    \u001b[39m\u001b[39m\"\"\"\u001b[39;00m\n\u001b[1;32m    540\u001b[0m \u001b[39m    Reader using openpyxl engine.\u001b[39;00m\n\u001b[1;32m    541\u001b[0m \n\u001b[0;32m   (...)\u001b[0m\n\u001b[1;32m    546\u001b[0m \u001b[39m    {storage_options}\u001b[39;00m\n\u001b[1;32m    547\u001b[0m \u001b[39m    \"\"\"\u001b[39;00m\n\u001b[0;32m--> 548\u001b[0m     import_optional_dependency(\u001b[39m\"\u001b[39;49m\u001b[39mopenpyxl\u001b[39;49m\u001b[39m\"\u001b[39;49m)\n\u001b[1;32m    549\u001b[0m     \u001b[39msuper\u001b[39m()\u001b[39m.\u001b[39m\u001b[39m__init__\u001b[39m(filepath_or_buffer, storage_options\u001b[39m=\u001b[39mstorage_options)\n",
            "File \u001b[0;32m~/.local/lib/python3.10/site-packages/pandas/compat/_optional.py:145\u001b[0m, in \u001b[0;36mimport_optional_dependency\u001b[0;34m(name, extra, errors, min_version)\u001b[0m\n\u001b[1;32m    143\u001b[0m \u001b[39mexcept\u001b[39;00m \u001b[39mImportError\u001b[39;00m:\n\u001b[1;32m    144\u001b[0m     \u001b[39mif\u001b[39;00m errors \u001b[39m==\u001b[39m \u001b[39m\"\u001b[39m\u001b[39mraise\u001b[39m\u001b[39m\"\u001b[39m:\n\u001b[0;32m--> 145\u001b[0m         \u001b[39mraise\u001b[39;00m \u001b[39mImportError\u001b[39;00m(msg)\n\u001b[1;32m    146\u001b[0m     \u001b[39mreturn\u001b[39;00m \u001b[39mNone\u001b[39;00m\n\u001b[1;32m    148\u001b[0m \u001b[39m# Handle submodules: if we have submodule, grab parent module from sys.modules\u001b[39;00m\n",
            "\u001b[0;31mImportError\u001b[0m: Missing optional dependency 'openpyxl'.  Use pip or conda to install openpyxl."
          ]
        }
      ],
      "source": [
        "import pandas as pd\n",
        "import matplotlib.pyplot as plt\n",
        "from sklearn.model_selection import  train_test_split\n",
        "import numpy as np\n",
        "from sklearn.metrics import mean_absolute_error,mean_squared_error\n",
        "df2=pd.DataFrame(pd.read_excel(\"Part2.xlsx\"))\n",
        "# df2 = pd.DataFrame(pd.read_excel(\"Part2.xlsx\"))"
      ]
    },
    {
      "cell_type": "code",
      "execution_count": null,
      "metadata": {
        "colab": {
          "base_uri": "https://localhost:8080/",
          "height": 206
        },
        "id": "Q4vrxbRWB-9k",
        "outputId": "a500ec5c-b163-4bba-e11a-54edc27396cc"
      },
      "outputs": [],
      "source": [
        "df2.head()"
      ]
    },
    {
      "cell_type": "markdown",
      "metadata": {
        "id": "EWDEfZwiTIKL"
      },
      "source": [
        "Creating SOH column as per the given definition"
      ]
    },
    {
      "cell_type": "code",
      "execution_count": null,
      "metadata": {
        "colab": {
          "base_uri": "https://localhost:8080/",
          "height": 206
        },
        "id": "EcLXNN8dROiN",
        "outputId": "cee079a5-af5a-47eb-ba35-f2db16987e04"
      },
      "outputs": [],
      "source": [
        "initial_capacity = df2['Discharge_Capacity (Ah)'].iloc[0]\n",
        "df2['SOH'] = df2['Discharge_Capacity (Ah)']/initial_capacity\n",
        "df2.head()"
      ]
    },
    {
      "cell_type": "markdown",
      "metadata": {
        "id": "KVmuoJYATXxn"
      },
      "source": [
        "###Cleaning the data"
      ]
    },
    {
      "cell_type": "markdown",
      "metadata": {
        "id": "Wi9uS4qeOIW7"
      },
      "source": [
        "Sorting the DataFrame according to the Cycle Index"
      ]
    },
    {
      "cell_type": "code",
      "execution_count": null,
      "metadata": {
        "id": "k4TMDW8HC8pK"
      },
      "outputs": [],
      "source": [
        "df2 = df2.sort_values(by=['Cycle_Index'])"
      ]
    },
    {
      "cell_type": "markdown",
      "metadata": {
        "id": "_TmgU_HlNyEr"
      },
      "source": [
        "Plotting our dataset"
      ]
    },
    {
      "cell_type": "code",
      "execution_count": null,
      "metadata": {
        "colab": {
          "base_uri": "https://localhost:8080/",
          "height": 265
        },
        "id": "MOFVQFmoJ1U4",
        "outputId": "5c2744fb-9fa4-4c73-8cae-fe45fa59c307"
      },
      "outputs": [],
      "source": [
        "plt.scatter(df2['Cycle_Index'], df2['SOH'])\n",
        "plt.show()"
      ]
    },
    {
      "cell_type": "markdown",
      "metadata": {
        "id": "bdZI_a1xOOK_"
      },
      "source": [
        "We can see from the above plot that there are some outliers in the data, \n",
        "So we'll proceed to remove these outliers"
      ]
    },
    {
      "cell_type": "code",
      "execution_count": null,
      "metadata": {
        "id": "5LgeFTIIKrGi"
      },
      "outputs": [],
      "source": [
        "def remove_outlier(df_in, col_name):\n",
        "    q1 = df_in[col_name].quantile(0.25)\n",
        "    q3 = df_in[col_name].quantile(0.75)\n",
        "    iqr = q3-q1 #Interquartile range\n",
        "    fence_low  = q1-1.5*iqr\n",
        "    fence_high = q3+1.5*iqr\n",
        "    df_out = df_in.loc[(df_in[col_name] > fence_low) & (df_in[col_name] < fence_high)]\n",
        "    return df_out\n",
        "\n",
        "df2 = remove_outlier(df2, 'SOH')"
      ]
    },
    {
      "cell_type": "markdown",
      "metadata": {
        "id": "VrIVh64aObYa"
      },
      "source": [
        "Visualizing the data again"
      ]
    },
    {
      "cell_type": "code",
      "execution_count": null,
      "metadata": {
        "colab": {
          "base_uri": "https://localhost:8080/",
          "height": 265
        },
        "id": "xPGRg47AK0gJ",
        "outputId": "44d06302-6efc-4241-e3a4-bcc2a7af8844"
      },
      "outputs": [],
      "source": [
        "plt.scatter(df2['Cycle_Index'], df2['SOH'])\n",
        "plt.show()"
      ]
    },
    {
      "cell_type": "markdown",
      "metadata": {
        "id": "2KdUeXzLTCTx"
      },
      "source": [
        "###1) Modelling the SOH of the cell as a function of cycle number"
      ]
    },
    {
      "cell_type": "markdown",
      "metadata": {
        "id": "GJehhHTAO7TU"
      },
      "source": [
        "Preprocessing the data and splitting them into training and test datasets"
      ]
    },
    {
      "cell_type": "code",
      "execution_count": null,
      "metadata": {
        "id": "OjXtl98AMBtw"
      },
      "outputs": [],
      "source": [
        "\n",
        "X = np.array(df2['Cycle_Index']).reshape(-1, 1)\n",
        "y = np.array(df2['SOH']).reshape(-1, 1)\n",
        "\n",
        "X_train, X_test, y_train, y_test = train_test_split(X, y, test_size = 0.25)"
      ]
    },
    {
      "cell_type": "markdown",
      "metadata": {
        "id": "Agk4qRcrPIyH"
      },
      "source": [
        "Creating a learning regression model using Scikit-learn library and training it on the train dataset"
      ]
    },
    {
      "cell_type": "code",
      "execution_count": null,
      "metadata": {
        "colab": {
          "base_uri": "https://localhost:8080/"
        },
        "id": "0aIeqRQEMHj6",
        "outputId": "b66915cc-8979-4f6f-ff0b-ca3b84e8f750"
      },
      "outputs": [],
      "source": [
        "regr = LinearRegression()\n",
        "  \n",
        "regr.fit(X_train, y_train)"
      ]
    },
    {
      "cell_type": "markdown",
      "metadata": {
        "id": "catEdJN-P2Gy"
      },
      "source": [
        "Testing the model on test dataset"
      ]
    },
    {
      "cell_type": "code",
      "execution_count": null,
      "metadata": {
        "colab": {
          "base_uri": "https://localhost:8080/"
        },
        "id": "7qkRZ9sHP0hb",
        "outputId": "66c03754-7fe3-40e7-d917-564b38e4adf5"
      },
      "outputs": [],
      "source": [
        "print(regr.score(X_test, y_test))"
      ]
    },
    {
      "cell_type": "markdown",
      "metadata": {
        "id": "ESknpz4eO1Ys"
      },
      "source": [
        "Plotting the results predicted by the model (red line)"
      ]
    },
    {
      "cell_type": "code",
      "execution_count": null,
      "metadata": {
        "colab": {
          "base_uri": "https://localhost:8080/",
          "height": 280
        },
        "id": "edVyi9HNMqYy",
        "outputId": "3e9c548f-c0b8-436b-a0d1-fb2e7b6cd024"
      },
      "outputs": [],
      "source": [
        "y_pred = regr.predict(X_test)\n",
        "plt.scatter(X_test, y_test, color ='b')\n",
        "plt.plot(X_test, y_pred, color ='r')\n",
        "plt.xlabel('Cycle_Index')\n",
        "plt.ylabel('SOH')\n",
        "plt.show()"
      ]
    },
    {
      "cell_type": "markdown",
      "metadata": {
        "id": "hzgM3G3_QAfD"
      },
      "source": [
        "Creating the predict_SOH function as per the question"
      ]
    },
    {
      "cell_type": "code",
      "execution_count": null,
      "metadata": {
        "colab": {
          "base_uri": "https://localhost:8080/"
        },
        "id": "dt8r9E_aFMcJ",
        "outputId": "26c1cad9-25c7-402c-a1cf-2f5510b80139"
      },
      "outputs": [],
      "source": [
        "def predict_SOH(df_in):\n",
        "  X_in = np.array(df_in['Cycle_Index']).reshape(-1, 1)\n",
        "  pred_SOH = regr.predict(X_in)\n",
        "  return pred_SOH\n",
        "\n",
        "print(predict_SOH(df2))"
      ]
    },
    {
      "cell_type": "markdown",
      "metadata": {
        "id": "fRf6XXTCYOR1"
      },
      "source": [
        "###2) Obtain RUL"
      ]
    },
    {
      "cell_type": "markdown",
      "metadata": {
        "id": "qKErrbPEYUP_"
      },
      "source": [
        "Predict after how many cycles model reaches 80% SOH"
      ]
    },
    {
      "cell_type": "code",
      "execution_count": null,
      "metadata": {
        "colab": {
          "base_uri": "https://localhost:8080/"
        },
        "id": "NuIbxy80etwz",
        "outputId": "041d321c-db46-47f5-bdf4-0026ac413ff3"
      },
      "outputs": [],
      "source": [
        "life_cycle = np.array(0).reshape(1,-1)\n",
        "y=0\n",
        "while(True):\n",
        "  y = regr.predict(life_cycle)\n",
        "  if(y<=0.8):     #Count cycles until SOH decreases to 80%\n",
        "    break\n",
        "  life_cycle+=1\n",
        "print(life_cycle[0][0])"
      ]
    },
    {
      "cell_type": "markdown",
      "metadata": {
        "id": "a56FIeXKdn-Q"
      },
      "source": [
        "RUL after the following Cycles: 500, 1000, 2000, 3000 and 3500"
      ]
    },
    {
      "cell_type": "code",
      "execution_count": null,
      "metadata": {
        "colab": {
          "base_uri": "https://localhost:8080/"
        },
        "id": "oAyhAX04dnXS",
        "outputId": "860dca1b-d421-48ee-9594-90c53d51895f"
      },
      "outputs": [],
      "source": [
        "rul_500 = life_cycle[0][0] - 500\n",
        "rul_1000 = life_cycle[0][0] - 1000\n",
        "rul_2000 = life_cycle[0][0] - 2000\n",
        "rul_3000 = life_cycle[0][0] - 3000\n",
        "rul_3500 = life_cycle[0][0] - 3500\n",
        "\n",
        "print(\"RUL at 500th Cycle : \",rul_500)\n",
        "print(\"RUL at 1000th Cycle : \",rul_1000)\n",
        "print(\"RUL at 2000th Cycle : \",rul_2000)\n",
        "print(\"RUL at 3000th Cycle : \",rul_3000)\n",
        "print(\"RUL at 3500th Cycle : \",rul_3500)"
      ]
    },
    {
      "cell_type": "markdown",
      "metadata": {
        "id": "U_Sk8SGMXFGG"
      },
      "source": [
        "### 3) Evaluate the performance of the model"
      ]
    },
    {
      "cell_type": "markdown",
      "metadata": {
        "id": "ykbkErpMWuOX"
      },
      "source": [
        "Calculating the error estimates using Scikit-learn module"
      ]
    },
    {
      "cell_type": "code",
      "execution_count": null,
      "metadata": {
        "id": "OYu_sA0iVWMF"
      },
      "outputs": [],
      "source": [
        "#This function estimates the MAE and RMSE errors between the Actual and predicted SOH values using the Scikit-learn libraries\n",
        "def Estimate_error(df_in):\n",
        "  y_test = df_in['SOH']\n",
        "  y_pred = predict_SOH(df_in)\n",
        "  mae = mean_absolute_error(y_true=y_test,y_pred=y_pred)\n",
        "  rmse = mean_squared_error(y_true=y_test,y_pred=y_pred,squared=False)\n",
        "  return (rmse, mae)"
      ]
    },
    {
      "cell_type": "code",
      "execution_count": null,
      "metadata": {
        "id": "mdtXvP7zV_ZX"
      },
      "outputs": [],
      "source": [
        "rmse,mae = Estimate_error(df2)"
      ]
    },
    {
      "cell_type": "markdown",
      "metadata": {
        "id": "cd-DonkYW4xN"
      },
      "source": [
        "Print the performance metrics"
      ]
    },
    {
      "cell_type": "code",
      "execution_count": null,
      "metadata": {
        "colab": {
          "base_uri": "https://localhost:8080/"
        },
        "id": "LU0sAyPKWTGe",
        "outputId": "78306f46-e144-4b61-dc12-82d78b35bf33"
      },
      "outputs": [],
      "source": [
        "print(\"MAE:\",mae)\n",
        "print(\"RMSE:\",rmse)"
      ]
    },
    {
      "cell_type": "code",
      "execution_count": null,
      "metadata": {
        "colab": {
          "base_uri": "https://localhost:8080/"
        },
        "id": "L9hYwDcb4Ii7",
        "outputId": "d66369f8-bae6-43a0-a668-318ab79e8c52"
      },
      "outputs": [],
      "source": [
        "initial_capacity = df2['Discharge_Capacity (Ah)'].iloc[0]\n",
        "df2['SOH'] = df2['Discharge_Capacity (Ah)']/initial_capacity\n",
        "\n",
        "print(Estimate_error(df2))"
      ]
    },
    {
      "cell_type": "markdown",
      "metadata": {
        "id": "OmMWTq1vfVc7"
      },
      "source": [
        "#Summary"
      ]
    },
    {
      "cell_type": "markdown",
      "metadata": {
        "id": "PqyY4dEkfYwe"
      },
      "source": [
        "###Part 1 - Feature Extraction"
      ]
    },
    {
      "cell_type": "markdown",
      "metadata": {
        "id": "QCtLb_nufzRc"
      },
      "source": [
        "Task 1\n",
        "\n",
        "\n",
        "---\n",
        "\n",
        "In this initial section, I have performed preprocessing of data. <br>\n",
        "I used the dropna function available in pandas library to drop the null values.<br>\n",
        "I have used a custom function to remove the outliers present in the data by excluding those values which lie outside the inter-quartile range.\n",
        "<br>\n",
        "I have also parsed the timestamps so that I can sort the table according to the time and it remains consistent with chronology of the battery charging and discharging.\n"
      ]
    },
    {
      "cell_type": "markdown",
      "metadata": {
        "id": "jMi5OpYrg5-J"
      },
      "source": [
        "Task 2 \n",
        "\n",
        "---\n",
        "\n",
        "In this section I have written an algorithm to find the full equivalent cycles of the battery. I created a charge status column which monitors the change in the SOC. Then I have created a charge_current column which monitors the change in charging current of the battery.\n",
        "<br>\n",
        "After that I create a cycles column which captures the cycles completed at a particular timestamp. This is calculated by adding all the charge_status cummulatively and then dividing them by 100. In this way, the last value gives the total FEC completed by the battery."
      ]
    },
    {
      "cell_type": "markdown",
      "metadata": {
        "id": "QeXzHoB8ibyd"
      },
      "source": [
        "Task 3\n",
        "\n",
        "---\n",
        "\n",
        "Initially, I have calculated the change in time at each step. Now, I multiplt each of the time change with the current change to obtain the change in charge. Then, I have found the index where 10th cycle ends iteratively. Finally, I summed the change in charges over 10 cycles and divided them by 10 to get the average Capacity of the battery.\n"
      ]
    },
    {
      "cell_type": "markdown",
      "metadata": {
        "id": "qkh8f8RejkqS"
      },
      "source": [
        "###Part 2 - Regression"
      ]
    },
    {
      "cell_type": "markdown",
      "metadata": {
        "id": "0YLlWfxdjqj2"
      },
      "source": [
        "Task 1 \n",
        "\n",
        "---\n",
        "\n",
        "Before starting I have cleaned the dataset provided and removed the outliers by the same method used in previous task. I have started by preprocessing the data and then split the whole dataset into training and testing data. In this process I have used the Scikit-learn library and the numpy library. After that I have used the Scikit-learn's LinearRegression funtion to create and train a linear regression model. I have chosen a linear regression model because in while visualing the data, it seemed to resemble a straight line and hence, intuitively should give better results. \n",
        "Training the model on 75% of the dataset took a time of around 1 second. The inputs and targets fed are Cycle_index and SOH columns of the DataFrame.\n",
        "<br>\n",
        "After that I have tested the model on the test dataset and plotted  the comparison between the actual and predicted results. Finally, I have created the predict_SOH function as asked in the question.\n"
      ]
    },
    {
      "cell_type": "markdown",
      "metadata": {
        "id": "T3yNQbIbmuRR"
      },
      "source": [
        "Task 2 \n",
        "\n",
        "---\n",
        "\n",
        "In this section I have calculated the remaining useful life (RUL) of the battery. First, I have tried to find the total number of cycles which is useful in its lifetime. So I thought of an algorithm where we count the cycles until SOH decreases to 80%.\n",
        "So, in this way the RUL comes out to be :\n",
        "<br>RUL at 500th Cycle :  3108\n",
        "<br>RUL at 1000th Cycle :  2608\n",
        "<br>RUL at 2000th Cycle :  1608\n",
        "<br>RUL at 3000th Cycle :  608\n",
        "<br>RUL at 3500th Cycle :  108"
      ]
    },
    {
      "cell_type": "markdown",
      "metadata": {
        "id": "VjPRVC_SnsIV"
      },
      "source": [
        "Task 3 \n",
        "\n",
        "---\n",
        "\n",
        "In this section, I have calculated the performance metrics of my model. The metrics used are MAE and RMSE. These are estimated errors calculated using Scikit's functions.<br>\n",
        "The values come out to be :<br>\n",
        "MAE: 0.0061345402596345265<br>\n",
        "RMSE: 0.007837251920956927"
      ]
    }
  ],
  "metadata": {
    "colab": {
      "collapsed_sections": [
        "EtNyAmI_ummC",
        "3GftOfcPvIix",
        "Xaoc4pRmvwyA",
        "raLG6HTh4I2G",
        "ub3q2JMcN2K6",
        "KVmuoJYATXxn",
        "2KdUeXzLTCTx",
        "fRf6XXTCYOR1",
        "U_Sk8SGMXFGG"
      ],
      "include_colab_link": true,
      "provenance": []
    },
    "kernelspec": {
      "display_name": "Python 3",
      "name": "python3"
    },
    "language_info": {
      "codemirror_mode": {
        "name": "ipython",
        "version": 3
      },
      "file_extension": ".py",
      "mimetype": "text/x-python",
      "name": "python",
      "nbconvert_exporter": "python",
      "pygments_lexer": "ipython3",
      "version": "3.10.12"
    }
  },
  "nbformat": 4,
  "nbformat_minor": 0
}
